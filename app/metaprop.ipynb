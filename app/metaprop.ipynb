{
 "cells": [
  {
   "cell_type": "code",
   "execution_count": 1,
   "metadata": {
    "ExecuteTime": {
     "end_time": "2020-06-25T03:44:18.709079Z",
     "start_time": "2020-06-25T03:44:17.040228Z"
    }
   },
   "outputs": [],
   "source": [
    "import requests\n",
    "import pandas as pd\n",
    "from math import log, sqrt, asin, exp, sin, cos, pi\n",
    "from numpy import sign\n",
    "\n",
    "Z_975 = 1.96\n",
    "SP_ZERO_BLACKLIST = ['untransformed', 'logit']\n",
    "MIN_DENOMINATOR = 250\n",
    "pd.options.mode.chained_assignment = None"
   ]
  },
  {
   "cell_type": "code",
   "execution_count": 2,
   "metadata": {
    "ExecuteTime": {
     "end_time": "2020-06-25T03:44:19.331061Z",
     "start_time": "2020-06-25T03:44:18.713644Z"
    }
   },
   "outputs": [],
   "source": [
    "url = 'https://iit-backend.com/airtable_scraper/records'\n",
    "response = requests.get(url)"
   ]
  },
  {
   "cell_type": "code",
   "execution_count": 3,
   "metadata": {
    "ExecuteTime": {
     "end_time": "2020-06-25T03:44:19.371470Z",
     "start_time": "2020-06-25T03:44:19.341796Z"
    }
   },
   "outputs": [],
   "source": [
    "if response.status_code == 200:\n",
    "    data = pd.DataFrame(response.json()['records'])"
   ]
  },
  {
   "cell_type": "code",
   "execution_count": 4,
   "metadata": {
    "ExecuteTime": {
     "end_time": "2020-06-25T03:44:19.395082Z",
     "start_time": "2020-06-25T03:44:19.376838Z"
    }
   },
   "outputs": [],
   "source": [
    "def calcTransformPrevalence(p, N, method):\n",
    "    if method == 'untransformed': \n",
    "        return p\n",
    "    elif method == 'logit': \n",
    "        return log(p / (1 - p))\n",
    "    elif method == 'arcsin': \n",
    "        return asin(sqrt(p))\n",
    "    elif method == 'double_arcsin_approx': \n",
    "        n = N * p\n",
    "        return asin(sqrt(n / (N + 1))) + asin(sqrt((n + 1) / (N + 1)))\n",
    "    elif method == 'double_arcsin_precise':\n",
    "        n = N * p\n",
    "        return 0.5 * (asin(sqrt(n / (N + 1))) + asin(sqrt((n + 1) / (N + 1))))"
   ]
  },
  {
   "cell_type": "code",
   "execution_count": 5,
   "metadata": {
    "ExecuteTime": {
     "end_time": "2020-06-25T03:44:19.413040Z",
     "start_time": "2020-06-25T03:44:19.401340Z"
    }
   },
   "outputs": [],
   "source": [
    "def calcTransformVariance(p, N, method):\n",
    "    if method == 'untransformed': \n",
    "        return p * (1 - p) / N\n",
    "    elif method == 'logit': \n",
    "        return 1 / (N * p) + 1 / (N * (1- p))\n",
    "    elif method == 'arcsin': \n",
    "        return 1 / (4 * N)\n",
    "    elif method == 'double_arcsin_approx': \n",
    "        return 1 / (N + 0.5)\n",
    "    elif method == 'double_arcsin_precise': \n",
    "        return 1 / (4 * N + 2)"
   ]
  },
  {
   "cell_type": "code",
   "execution_count": 6,
   "metadata": {
    "ExecuteTime": {
     "end_time": "2020-06-25T03:44:19.438318Z",
     "start_time": "2020-06-25T03:44:19.421032Z"
    }
   },
   "outputs": [],
   "source": [
    "def backTransformPrevalence(t, n, method):\n",
    "    if method == 'untransformed': \n",
    "        if t < 0: \n",
    "            return 0\n",
    "        elif t > 1: \n",
    "            return 1\n",
    "        else: \n",
    "            return t\n",
    "    elif method == 'logit': \n",
    "        return exp(t) / (exp(t) + 1)\n",
    "    elif method == 'arcsin': \n",
    "        if t < 0: \n",
    "            return 0\n",
    "        elif t > pi / 2: \n",
    "            return 1\n",
    "        else:\n",
    "            return sin(t) ** 2\n",
    "    elif method == 'double_arcsin_approx': \n",
    "        if t < 0: \n",
    "            return 0\n",
    "        elif t > pi: \n",
    "            return 1\n",
    "        else:\n",
    "            return sin(t / 2) ** 2\n",
    "    elif method == 'double_arcsin_precise': \n",
    "        if t < 0: \n",
    "            return 0\n",
    "        elif t > pi / 4: \n",
    "            return 1\n",
    "        else:\n",
    "            return 0.5 * (1 - sign(cos(t)) * sqrt(1 - (sin(2 * t) + (sin(2 * t) - 2 * sin(2 * t)) / n) ** 2))"
   ]
  },
  {
   "cell_type": "code",
   "execution_count": 11,
   "metadata": {
    "ExecuteTime": {
     "end_time": "2020-06-25T03:45:06.296632Z",
     "start_time": "2020-06-25T03:45:06.265802Z"
    }
   },
   "outputs": [],
   "source": [
    "def metaprop(records, method = 'arcsin'):\n",
    "    filteredRecords = records[(records['SERUM_POS_PREVALENCE'].notna()) &\n",
    "                            (records['DENOMINATOR'].notna()) &\n",
    "                            (records['DENOMINATOR'] >= MIN_DENOMINATOR) &\n",
    "                            (records['SERUM_POS_PREVALENCE'] != 0 if method in SP_ZERO_BLACKLIST else True)]\n",
    "    \n",
    "    n_studies = filteredRecords.shape[0]\n",
    "    if n_studies == 0: \n",
    "        return None \n",
    "    \n",
    "    filteredRecords['TRANSFORMED_PREVALENCE'] = filteredRecords.apply(lambda row: calcTransformPrevalence(row['SERUM_POS_PREVALENCE'], \n",
    "                                                                                                          row['DENOMINATOR'], \n",
    "                                                                                                          method),\n",
    "                                                                     axis = 1)\n",
    "    filteredRecords['TRANSFORMED_VARIANCE'] = filteredRecords.apply(lambda row: calcTransformVariance(row['SERUM_POS_PREVALENCE'], \n",
    "                                                                                                          row['DENOMINATOR'], \n",
    "                                                                                                          method),\n",
    "                                                                     axis = 1)\n",
    "    filteredRecords['INVERSE_VARIANCE'] = 1 / filteredRecords['TRANSFORMED_VARIANCE']\n",
    "    filteredRecords['PREVALENCE_OVER_VARIANCE'] = filteredRecords['TRANSFORMED_PREVALENCE'] / filteredRecords['TRANSFORMED_VARIANCE']\n",
    "    filteredRecords['INVERSE_DENOMINATOR'] = 1 / filteredRecords['DENOMINATOR']\n",
    "    \n",
    "    N_sum = sum(filteredRecords['DENOMINATOR'])\n",
    "    weight_sum = sum(filteredRecords['INVERSE_VARIANCE'])\n",
    "    weighted_variance_sum = sum(filteredRecords['PREVALENCE_OVER_VARIANCE'])\n",
    "    variance_sum = sum(filteredRecords['TRANSFORMED_VARIANCE'])\n",
    "    inverse_n_sum = sum(filteredRecords['INVERSE_DENOMINATOR'])\n",
    "    \n",
    "    trans_pooled_prevalence = weighted_variance_sum / weight_sum\n",
    "    trans_conf_inter = [trans_pooled_prevalence - Z_975 * sqrt(variance_sum),\n",
    "                       trans_pooled_prevalence + Z_975 * sqrt(variance_sum)]\n",
    "    \n",
    "    overall_n = n_studies / inverse_n_sum\n",
    "    \n",
    "    pooled_prevalence = backTransformPrevalence(trans_pooled_prevalence, overall_n, method)\n",
    "    conf_inter = [backTransformPrevalence(i, overall_n, method) for i in trans_conf_inter]\n",
    "    conf_inter = [max(conf_inter[0], 0), min(conf_inter[1], 1)]\n",
    "    error = [abs(pooled_prevalence - i) for i in conf_inter]\n",
    "    \n",
    "    return {\n",
    "        'seroprevalence_percent': pooled_prevalence * 100,\n",
    "        'error_percent': [i * 100 for i in error],\n",
    "        'total_N': N_sum,\n",
    "        'n_studies': n_studies\n",
    "    }"
   ]
  },
  {
   "cell_type": "code",
   "execution_count": 12,
   "metadata": {
    "ExecuteTime": {
     "end_time": "2020-06-25T03:45:09.178508Z",
     "start_time": "2020-06-25T03:45:08.835915Z"
    }
   },
   "outputs": [
    {
     "data": {
      "text/plain": [
       "{'Israel': {'seroprevalence_percent': 2.5,\n",
       "  'error_percent': [0.6882321053242481, 0.7955507170024322],\n",
       "  'total_N': 1700.0,\n",
       "  'n_studies': 1},\n",
       " 'Libya': None,\n",
       " 'Netherlands': {'seroprevalence_percent': 2.7032798676527197,\n",
       "  'error_percent': [1.6182880639139443, 2.317109508679033],\n",
       "  'total_N': 14721.0,\n",
       "  'n_studies': 6},\n",
       " 'Belgium': {'seroprevalence_percent': 4.809806928996464,\n",
       "  'error_percent': [1.1654041073851955, 1.3176728284240615],\n",
       "  'total_N': 10363.0,\n",
       "  'n_studies': 3},\n",
       " 'United Kingdom': {'seroprevalence_percent': 4.361802553355157,\n",
       "  'error_percent': [2.4660930476991045, 3.4180202165149796],\n",
       "  'total_N': 5405.0,\n",
       "  'n_studies': 5},\n",
       " 'Brazil': {'seroprevalence_percent': 1.037697708181498,\n",
       "  'error_percent': [0.844892831772265, 1.505731789974379],\n",
       "  'total_N': 39666.0,\n",
       "  'n_studies': 6},\n",
       " 'Jersey': {'seroprevalence_percent': 3.1000000000000005,\n",
       "  'error_percent': [1.0555646840890804, 1.2662121572702274],\n",
       "  'total_N': 855.0,\n",
       "  'n_studies': 1},\n",
       " 'Denmark': {'seroprevalence_percent': 1.7000000000000004,\n",
       "  'error_percent': [0.2502210695842123, 0.2697601412739059],\n",
       "  'total_N': 9496.0,\n",
       "  'n_studies': 1},\n",
       " 'Germany': {'seroprevalence_percent': 4.261769152543617,\n",
       "  'error_percent': [2.39902374970184, 3.3204134967790564],\n",
       "  'total_N': 2235.0,\n",
       "  'n_studies': 3},\n",
       " 'Switzerland': {'seroprevalence_percent': 4.442519247862756,\n",
       "  'error_percent': [3.803008344323665, 6.974570068041591],\n",
       "  'total_N': 8338.0,\n",
       "  'n_studies': 10},\n",
       " 'Iran': {'seroprevalence_percent': 26.78594317573049,\n",
       "  'error_percent': [5.055522956059447, 5.3788461573542055],\n",
       "  'total_N': 1102.0,\n",
       "  'n_studies': 2},\n",
       " 'United States': {'seroprevalence_percent': 5.617481304617349,\n",
       "  'error_percent': [5.148075939126198, 10.272319416182052],\n",
       "  'total_N': 292291.0,\n",
       "  'n_studies': 33},\n",
       " 'India': None,\n",
       " 'Luxembourg': {'seroprevalence_percent': 5.566183340130036,\n",
       "  'error_percent': [1.394823841663096, 1.5823369276173886],\n",
       "  'total_N': 3640.0,\n",
       "  'n_studies': 2},\n",
       " 'Croatia': {'seroprevalence_percent': 0.9900000000000001,\n",
       "  'error_percent': [0.4631390318570874, 0.6061717216626646],\n",
       "  'total_N': 1316.0,\n",
       "  'n_studies': 1},\n",
       " 'France': {'seroprevalence_percent': 21.192345216746634,\n",
       "  'error_percent': [5.1722347760767144, 5.682591716896876],\n",
       "  'total_N': 983.0,\n",
       "  'n_studies': 2},\n",
       " 'Singapore': None,\n",
       " 'Italy': {'seroprevalence_percent': 15.175678419968932,\n",
       "  'error_percent': [5.719759140874114, 6.785569965885855],\n",
       "  'total_N': 8667.0,\n",
       "  'n_studies': 7},\n",
       " 'Japan': {'seroprevalence_percent': 1.020547487809481,\n",
       "  'error_percent': [1.0010729147907924, 2.4883610513415406],\n",
       "  'total_N': 3882.0,\n",
       "  'n_studies': 5},\n",
       " 'Sweden': {'seroprevalence_percent': 7.553369663539233,\n",
       "  'error_percent': [2.3784372508141485, 2.7844909330631165],\n",
       "  'total_N': 4446.0,\n",
       "  'n_studies': 2},\n",
       " 'Spain': {'seroprevalence_percent': 5.585367761680682,\n",
       "  'error_percent': [3.3097338320213723, 4.655996169118046],\n",
       "  'total_N': 65741.0,\n",
       "  'n_studies': 6},\n",
       " 'China': {'seroprevalence_percent': 2.208372745627025,\n",
       "  'error_percent': [2.0303505958036414, 4.208777140963674],\n",
       "  'total_N': 73128.0,\n",
       "  'n_studies': 12}}"
      ]
     },
     "execution_count": 12,
     "metadata": {},
     "output_type": "execute_result"
    }
   ],
   "source": [
    "def groupBy(records, factor):\n",
    "    options = {item for sublist in data[factor] for item in sublist}\n",
    "    records.dropna(subset = [factor], inplace = True)\n",
    "    return {name: records[records[factor].apply(lambda x: name in x)] for name in options}\n",
    "\n",
    "{name: metaprop(records) for name, records in groupBy(data, 'COUNTRY').items()}"
   ]
  }
 ],
 "metadata": {
  "kernelspec": {
   "display_name": "Python 3",
   "language": "python",
   "name": "python3"
  },
  "language_info": {
   "codemirror_mode": {
    "name": "ipython",
    "version": 3
   },
   "file_extension": ".py",
   "mimetype": "text/x-python",
   "name": "python",
   "nbconvert_exporter": "python",
   "pygments_lexer": "ipython3",
   "version": "3.7.5"
  },
  "toc": {
   "base_numbering": 1,
   "nav_menu": {},
   "number_sections": true,
   "sideBar": true,
   "skip_h1_title": true,
   "title_cell": "Table of Contents",
   "title_sidebar": "Contents",
   "toc_cell": true,
   "toc_position": {},
   "toc_section_display": true,
   "toc_window_display": false
  },
  "varInspector": {
   "cols": {
    "lenName": 16,
    "lenType": 16,
    "lenVar": 40
   },
   "kernels_config": {
    "python": {
     "delete_cmd_postfix": "",
     "delete_cmd_prefix": "del ",
     "library": "var_list.py",
     "varRefreshCmd": "print(var_dic_list())"
    },
    "r": {
     "delete_cmd_postfix": ") ",
     "delete_cmd_prefix": "rm(",
     "library": "var_list.r",
     "varRefreshCmd": "cat(var_dic_list()) "
    }
   },
   "types_to_exclude": [
    "module",
    "function",
    "builtin_function_or_method",
    "instance",
    "_Feature"
   ],
   "window_display": false
  }
 },
 "nbformat": 4,
 "nbformat_minor": 4
}
