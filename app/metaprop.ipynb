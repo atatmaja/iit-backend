{
 "cells": [
  {
   "cell_type": "code",
   "execution_count": 59,
   "metadata": {
    "ExecuteTime": {
     "end_time": "2020-06-25T03:44:18.709079Z",
     "start_time": "2020-06-25T03:44:17.040228Z"
    }
   },
   "outputs": [],
   "source": [
    "import requests\n",
    "import pandas as pd\n",
    "from math import log, sqrt, asin, exp, sin, cos, pi\n",
    "from numpy import sign\n",
    "\n",
    "Z_975 = 1.96\n",
    "SP_ZERO_BLACKLIST = ['untransformed', 'logit']\n",
    "MIN_DENOMINATOR = 250\n",
    "pd.options.mode.chained_assignment = None"
   ]
  },
  {
   "cell_type": "code",
   "execution_count": 60,
   "metadata": {
    "ExecuteTime": {
     "end_time": "2020-06-25T03:44:19.331061Z",
     "start_time": "2020-06-25T03:44:18.713644Z"
    }
   },
   "outputs": [],
   "source": [
    "url = 'http://127.0.0.1:5000/airtable_scraper/records'\n",
    "response = requests.get(url)"
   ]
  },
  {
   "cell_type": "code",
   "execution_count": 61,
   "metadata": {
    "ExecuteTime": {
     "end_time": "2020-06-25T03:44:19.371470Z",
     "start_time": "2020-06-25T03:44:19.341796Z"
    }
   },
   "outputs": [],
   "source": [
    "if response.status_code == 200:\n",
    "    data = pd.DataFrame(response.json()['records'])"
   ]
  },
  {
   "cell_type": "code",
   "execution_count": 62,
   "metadata": {
    "ExecuteTime": {
     "end_time": "2020-06-25T03:44:19.395082Z",
     "start_time": "2020-06-25T03:44:19.376838Z"
    }
   },
   "outputs": [],
   "source": [
    "def calcTransformPrevalence(p, N, method):\n",
    "    if method == 'untransformed': \n",
    "        return p\n",
    "    elif method == 'logit': \n",
    "        return log(p / (1 - p))\n",
    "    elif method == 'arcsin': \n",
    "        return asin(sqrt(p))\n",
    "    elif method == 'double_arcsin_approx': \n",
    "        n = N * p\n",
    "        return asin(sqrt(n / (N + 1))) + asin(sqrt((n + 1) / (N + 1)))\n",
    "    elif method == 'double_arcsin_precise':\n",
    "        n = N * p\n",
    "        return 0.5 * (asin(sqrt(n / (N + 1))) + asin(sqrt((n + 1) / (N + 1))))"
   ]
  },
  {
   "cell_type": "code",
   "execution_count": 63,
   "metadata": {
    "ExecuteTime": {
     "end_time": "2020-06-25T03:44:19.413040Z",
     "start_time": "2020-06-25T03:44:19.401340Z"
    }
   },
   "outputs": [],
   "source": [
    "def calcTransformVariance(p, N, method):\n",
    "    if method == 'untransformed': \n",
    "        return p * (1 - p) / N\n",
    "    elif method == 'logit': \n",
    "        return 1 / (N * p) + 1 / (N * (1- p))\n",
    "    elif method == 'arcsin': \n",
    "        return 1 / (4 * N)\n",
    "    elif method == 'double_arcsin_approx': \n",
    "        return 1 / (N + 0.5)\n",
    "    elif method == 'double_arcsin_precise': \n",
    "        return 1 / (4 * N + 2)"
   ]
  },
  {
   "cell_type": "code",
   "execution_count": 64,
   "metadata": {
    "ExecuteTime": {
     "end_time": "2020-06-25T03:44:19.438318Z",
     "start_time": "2020-06-25T03:44:19.421032Z"
    }
   },
   "outputs": [],
   "source": [
    "def backTransformPrevalence(t, n, method):\n",
    "    if method == 'untransformed': \n",
    "        if t < 0: \n",
    "            return 0\n",
    "        elif t > 1: \n",
    "            return 1\n",
    "        else: \n",
    "            return t\n",
    "    elif method == 'logit': \n",
    "        return exp(t) / (exp(t) + 1)\n",
    "    elif method == 'arcsin': \n",
    "        if t < 0: \n",
    "            return 0\n",
    "        elif t > pi / 2: \n",
    "            return 1\n",
    "        else:\n",
    "            return sin(t) ** 2\n",
    "    elif method == 'double_arcsin_approx': \n",
    "        if t < 0: \n",
    "            return 0\n",
    "        elif t > pi: \n",
    "            return 1\n",
    "        else:\n",
    "            return sin(t / 2) ** 2\n",
    "    elif method == 'double_arcsin_precise': \n",
    "        if t < 0: \n",
    "            return 0\n",
    "        elif t > pi / 4: \n",
    "            return 1\n",
    "        else:\n",
    "            return 0.5 * (1 - sign(cos(t)) * sqrt(1 - (sin(2 * t) + (sin(2 * t) - 2 * sin(2 * t)) / n) ** 2))"
   ]
  },
  {
   "cell_type": "code",
   "execution_count": 80,
   "metadata": {},
   "outputs": [],
   "source": [
    "def calcBetweenStudyVariance(records):\n",
    "    \n",
    "    Q = sum(records['FIXED_WEIGHT'] * (records['TRANSFORMED_PREVALENCE'] - records['TRANSFORMED_POOLED_PREVALENCE']) ** 2)\n",
    "    estimator_numerator = Q - (records.shape[0] - 1)\n",
    "    estimator_denominator = sum(records['FIXED_WEIGHT']) - sum((records['FIXED_WEIGHT']) ** 2) / sum(records['FIXED_WEIGHT'])\n",
    "    if estimator_denominator == 0:\n",
    "        return 0\n",
    "    else:\n",
    "        return max(0, estimator_numerator/estimator_denominator)    "
   ]
  },
  {
   "cell_type": "code",
   "execution_count": 93,
   "metadata": {
    "ExecuteTime": {
     "end_time": "2020-06-25T03:45:06.296632Z",
     "start_time": "2020-06-25T03:45:06.265802Z"
    }
   },
   "outputs": [],
   "source": [
    "def metaprop(records, transformation_method = 'double_arcsin_precise', random_effects = True):\n",
    "    filteredRecords = records[(records['SERUM_POS_PREVALENCE'].notna()) &\n",
    "                            (records['DENOMINATOR'].notna()) &\n",
    "                            (records['DENOMINATOR'] > 0) &\n",
    "                            (records['SERUM_POS_PREVALENCE'] != 0 if transformation_method in SP_ZERO_BLACKLIST else True)]\n",
    "    \n",
    "    valid_records = (filteredRecords['DENOMINATOR'] >= MIN_DENOMINATOR).any()\n",
    "    \n",
    "    if valid_records:\n",
    "        filteredRecords = filteredRecords[filteredRecords['DENOMINATOR'] >= MIN_DENOMINATOR]\n",
    "    else:\n",
    "        pass\n",
    "    \n",
    "    n_studies = filteredRecords.shape[0]\n",
    "    if n_studies == 0: \n",
    "        return None \n",
    "    \n",
    "    filteredRecords['TRANSFORMED_PREVALENCE'] = filteredRecords.apply(lambda row: calcTransformPrevalence(row['SERUM_POS_PREVALENCE'], \n",
    "                                                                                                          row['DENOMINATOR'], \n",
    "                                                                                                          transformation_method),\n",
    "                                                                     axis = 1)\n",
    "    filteredRecords['TRANSFORMED_VARIANCE'] = filteredRecords.apply(lambda row: calcTransformVariance(row['SERUM_POS_PREVALENCE'], \n",
    "                                                                                                          row['DENOMINATOR'], \n",
    "                                                                                                          transformation_method),\n",
    "                                                                     axis = 1)\n",
    "    \n",
    "    filteredRecords['FIXED_WEIGHT'] = 1 / (filteredRecords['TRANSFORMED_VARIANCE'])\n",
    "    filteredRecords['FIXED_WEIGHTED_PREVALENCE'] = filteredRecords['TRANSFORMED_PREVALENCE'] * filteredRecords['FIXED_WEIGHT']\n",
    "    filteredRecords['INVERSE_DENOMINATOR'] = 1 / filteredRecords['DENOMINATOR']\n",
    "    \n",
    "    N_sum = sum(filteredRecords['DENOMINATOR'])\n",
    "    fixed_weight_sum = sum(filteredRecords['FIXED_WEIGHT'])\n",
    "    fixed_weighted_prevalence_sum = sum(filteredRecords['FIXED_WEIGHTED_PREVALENCE'])\n",
    "    variance_sum = sum(filteredRecords['TRANSFORMED_VARIANCE'])\n",
    "    inverse_n_sum = sum(filteredRecords['INVERSE_DENOMINATOR'])\n",
    "    \n",
    "    trans_pooled_prevalence = fixed_weighted_prevalence_sum / fixed_weight_sum\n",
    "    trans_conf_inter = [trans_pooled_prevalence - Z_975 * sqrt(variance_sum),\n",
    "                       trans_pooled_prevalence + Z_975 * sqrt(variance_sum)]\n",
    "    \n",
    "    overall_n = n_studies / inverse_n_sum\n",
    "    \n",
    "    if not random_effects:\n",
    "        pooled_prevalence = backTransformPrevalence(trans_pooled_prevalence, overall_n, transformation_method)\n",
    "        conf_inter = [backTransformPrevalence(i, overall_n, transformation_method) for i in trans_conf_inter]\n",
    "        conf_inter = [max(conf_inter[0], 0), min(conf_inter[1], 1)]\n",
    "        error = [abs(pooled_prevalence - i) for i in conf_inter]\n",
    "        return {\n",
    "            'seroprevalence_percent': pooled_prevalence * 100,\n",
    "            'error_percent': [i * 100 for i in error],\n",
    "            'total_N': N_sum,\n",
    "            'n_studies': n_studies\n",
    "        }\n",
    "    else:\n",
    "        filteredRecords['TRANSFORMED_POOLED_PREVALENCE'] = trans_pooled_prevalence\n",
    "        tau = calcBetweenStudyVariance(filteredRecords)\n",
    "        filteredRecords['TRANSFORMED_TOTAL_VARIANCE'] = filteredRecords['TRANSFORMED_VARIANCE'] + tau\n",
    "        filteredRecords['RANDOM_WEIGHT'] = 1 / filteredRecords['TRANSFORMED_TOTAL_VARIANCE']\n",
    "        filteredRecords['RANDOM_WEIGHT_PREVALENCE'] = filteredRecords['TRANSFORMED_PREVALENCE'] * filteredRecords['RANDOM_WEIGHT']\n",
    "        \n",
    "        random_weight_sum = sum(filteredRecords['RANDOM_WEIGHT'])\n",
    "        random_weighted_prevalence_sum = sum(filteredRecords['RANDOM_WEIGHT_PREVALENCE'])\n",
    "        variance_sum += tau\n",
    "        trans_pooled_prevalence = random_weighted_prevalence_sum / random_weight_sum\n",
    "        trans_conf_inter = [trans_pooled_prevalence - Z_975 * sqrt(variance_sum),\n",
    "                       trans_pooled_prevalence + Z_975 * sqrt(variance_sum)]\n",
    "        \n",
    "        pooled_prevalence = backTransformPrevalence(trans_pooled_prevalence, overall_n, transformation_method)\n",
    "        conf_inter = [backTransformPrevalence(i, overall_n, transformation_method) for i in trans_conf_inter]\n",
    "        conf_inter = [max(conf_inter[0], 0), min(conf_inter[1], 1)]\n",
    "        error = [abs(pooled_prevalence - i) for i in conf_inter]\n",
    "        return {\n",
    "            'seroprevalence_percent': pooled_prevalence * 100,\n",
    "            'error_percent': [i * 100 for i in error],\n",
    "            'total_N': N_sum,\n",
    "            'n_studies': n_studies\n",
    "        }\n",
    "        "
   ]
  },
  {
   "cell_type": "code",
   "execution_count": 95,
   "metadata": {
    "ExecuteTime": {
     "end_time": "2020-06-25T03:45:09.178508Z",
     "start_time": "2020-06-25T03:45:08.835915Z"
    },
    "scrolled": true
   },
   "outputs": [
    {
     "data": {
      "text/plain": [
       "{'Luxembourg': {'seroprevalence_percent': 5.589547571750364,\n",
       "  'error_percent': [1.3967521143821104, 1.5837837015461598],\n",
       "  'total_N': 3640.0,\n",
       "  'n_studies': 2},\n",
       " 'Switzerland': {'seroprevalence_percent': 4.4824110586886565,\n",
       "  'error_percent': [3.821899164576098, 6.969743422554053],\n",
       "  'total_N': 8338.0,\n",
       "  'n_studies': 10},\n",
       " 'Belgium': {'seroprevalence_percent': 4.8201414069825255,\n",
       "  'error_percent': [1.1662266083585116, 1.3183042932171707],\n",
       "  'total_N': 10363.0,\n",
       "  'n_studies': 3},\n",
       " 'Spain': {'seroprevalence_percent': 5.577107376851876,\n",
       "  'error_percent': [3.301633713599772, 4.641140708461721],\n",
       "  'total_N': 65741.0,\n",
       "  'n_studies': 6},\n",
       " 'Sweden': {'seroprevalence_percent': 10.807290869262303,\n",
       "  'error_percent': [3.075135323122108, 3.517259101072284],\n",
       "  'total_N': 6595.0,\n",
       "  'n_studies': 3},\n",
       " 'Brazil': {'seroprevalence_percent': 1.0498319162757008,\n",
       "  'error_percent': [0.8512748925622204, 1.510673109892019],\n",
       "  'total_N': 39666.0,\n",
       "  'n_studies': 6},\n",
       " 'Italy': {'seroprevalence_percent': 15.55470255375962,\n",
       "  'error_percent': [6.3706196868450355, 7.667114788114526],\n",
       "  'total_N': 9176.0,\n",
       "  'n_studies': 8},\n",
       " 'Germany': {'seroprevalence_percent': 4.349004064448336,\n",
       "  'error_percent': [2.4226971414367524, 3.3365977721596107],\n",
       "  'total_N': 2235.0,\n",
       "  'n_studies': 3},\n",
       " 'India': {'seroprevalence_percent': 0.7318091459840248,\n",
       "  'error_percent': [0.09922366499757196, 0.10639213442617534],\n",
       "  'total_N': 26400.0,\n",
       "  'n_studies': 1},\n",
       " 'China': {'seroprevalence_percent': 2.214032570542035,\n",
       "  'error_percent': [2.0328903870963586, 4.203146940942265],\n",
       "  'total_N': 73128.0,\n",
       "  'n_studies': 12},\n",
       " 'Libya': {'seroprevalence_percent': 3.495835036235684,\n",
       "  'error_percent': [2.803335025839732, 4.83082388573734],\n",
       "  'total_N': 361.0,\n",
       "  'n_studies': 2},\n",
       " 'Israel': {'seroprevalence_percent': 2.5247893998877666,\n",
       "  'error_percent': [0.6913307947939207, 0.7984065779351401],\n",
       "  'total_N': 1700.0,\n",
       "  'n_studies': 1},\n",
       " 'United States': {'seroprevalence_percent': 5.937862354004958,\n",
       "  'error_percent': [5.405124982297832, 10.627696743259202],\n",
       "  'total_N': 311931.0,\n",
       "  'n_studies': 36},\n",
       " 'Greece': {'seroprevalence_percent': 1.096841026323303,\n",
       "  'error_percent': [0.8734898264180224, 1.5226681469713899],\n",
       "  'total_N': 2990.0,\n",
       "  'n_studies': 3},\n",
       " 'Singapore': None,\n",
       " 'France': {'seroprevalence_percent': 21.124932653758243,\n",
       "  'error_percent': [5.133525455464732, 5.622359268773824],\n",
       "  'total_N': 983.0,\n",
       "  'n_studies': 2},\n",
       " 'Croatia': {'seroprevalence_percent': 1.0252897707019426,\n",
       "  'error_percent': [0.47214916104695304, 0.6147885796216113],\n",
       "  'total_N': 1316.0,\n",
       "  'n_studies': 1},\n",
       " 'Iran': {'seroprevalence_percent': 26.67583247863878,\n",
       "  'error_percent': [5.012348417479689, 5.310671598819983],\n",
       "  'total_N': 1102.0,\n",
       "  'n_studies': 2},\n",
       " 'Ethiopia': {'seroprevalence_percent': 3.4098373487002345,\n",
       "  'error_percent': [2.6277215418375857, 4.372195966635262],\n",
       "  'total_N': 99.0,\n",
       "  'n_studies': 1},\n",
       " 'Netherlands': {'seroprevalence_percent': 2.718914779965914,\n",
       "  'error_percent': [1.622801188671008, 2.3199896850263304],\n",
       "  'total_N': 14721.0,\n",
       "  'n_studies': 6},\n",
       " 'Denmark': {'seroprevalence_percent': 1.7047163884164274,\n",
       "  'error_percent': [0.25054280707075827, 0.27007421479286475],\n",
       "  'total_N': 9496.0,\n",
       "  'n_studies': 1},\n",
       " 'Jersey': {'seroprevalence_percent': 3.146905751469198,\n",
       "  'error_percent': [1.0626109705055287, 1.2722860297622984],\n",
       "  'total_N': 855.0,\n",
       "  'n_studies': 1},\n",
       " 'Japan': {'seroprevalence_percent': 1.1442747752000437,\n",
       "  'error_percent': [1.1037919065798485, 2.580626552479648],\n",
       "  'total_N': 3882.0,\n",
       "  'n_studies': 5},\n",
       " 'United Kingdom': {'seroprevalence_percent': 4.40727066473881,\n",
       "  'error_percent': [2.478062598016079, 3.4254133355458127],\n",
       "  'total_N': 5405.0,\n",
       "  'n_studies': 5}}"
      ]
     },
     "execution_count": 95,
     "metadata": {},
     "output_type": "execute_result"
    }
   ],
   "source": [
    "def groupBy(records, factor):\n",
    "    options = {item for sublist in data[factor] for item in sublist}\n",
    "    records.dropna(subset = [factor], inplace = True)\n",
    "    return {name: records[records[factor].apply(lambda x: name in x)] for name in options}\n",
    "\n",
    "{name: metaprop(records, random_effects = False) for name, records in groupBy(data, 'COUNTRY').items()}"
   ]
  },
  {
   "cell_type": "code",
   "execution_count": 92,
   "metadata": {},
   "outputs": [
    {
     "data": {
      "text/plain": [
       "{'seroprevalence_percent': 4.502462169737742,\n",
       " 'error_percent': [4.502462169737742, 23.597591399976213],\n",
       " 'total_N': 599663.0,\n",
       " 'n_studies': 117}"
      ]
     },
     "execution_count": 92,
     "metadata": {},
     "output_type": "execute_result"
    }
   ],
   "source": [
    "metaprop(data, random_effects = False)"
   ]
  }
 ],
 "metadata": {
  "kernelspec": {
   "display_name": "Python 3",
   "language": "python",
   "name": "python3"
  },
  "language_info": {
   "codemirror_mode": {
    "name": "ipython",
    "version": 3
   },
   "file_extension": ".py",
   "mimetype": "text/x-python",
   "name": "python",
   "nbconvert_exporter": "python",
   "pygments_lexer": "ipython3",
   "version": "3.8.2"
  },
  "toc": {
   "base_numbering": 1,
   "nav_menu": {},
   "number_sections": true,
   "sideBar": true,
   "skip_h1_title": true,
   "title_cell": "Table of Contents",
   "title_sidebar": "Contents",
   "toc_cell": true,
   "toc_position": {},
   "toc_section_display": true,
   "toc_window_display": false
  },
  "varInspector": {
   "cols": {
    "lenName": 16,
    "lenType": 16,
    "lenVar": 40
   },
   "kernels_config": {
    "python": {
     "delete_cmd_postfix": "",
     "delete_cmd_prefix": "del ",
     "library": "var_list.py",
     "varRefreshCmd": "print(var_dic_list())"
    },
    "r": {
     "delete_cmd_postfix": ") ",
     "delete_cmd_prefix": "rm(",
     "library": "var_list.r",
     "varRefreshCmd": "cat(var_dic_list()) "
    }
   },
   "types_to_exclude": [
    "module",
    "function",
    "builtin_function_or_method",
    "instance",
    "_Feature"
   ],
   "window_display": false
  }
 },
 "nbformat": 4,
 "nbformat_minor": 4
}